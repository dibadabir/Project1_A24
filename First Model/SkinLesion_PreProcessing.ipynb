{
  "nbformat": 4,
  "nbformat_minor": 0,
  "metadata": {
    "colab": {
      "provenance": [],
      "gpuType": "T4",
      "mount_file_id": "1sBywqkbDnmva7bOdTD6hAoSVcEsfEdUn",
      "authorship_tag": "ABX9TyOq21g2fLEsE6jOlpLiQ7na",
      "include_colab_link": true
    },
    "kernelspec": {
      "name": "python3",
      "display_name": "Python 3"
    },
    "language_info": {
      "name": "python"
    },
    "accelerator": "GPU"
  },
  "cells": [
    {
      "cell_type": "markdown",
      "metadata": {
        "id": "view-in-github",
        "colab_type": "text"
      },
      "source": [
        "<a href=\"https://colab.research.google.com/github/dibadabir/Project1_A24/blob/main/SkinLesion_PreProcessing.ipynb\" target=\"_parent\"><img src=\"https://colab.research.google.com/assets/colab-badge.svg\" alt=\"Open In Colab\"/></a>"
      ]
    },
    {
      "cell_type": "code",
      "source": [
        "import os\n",
        "import random\n",
        "from google.colab import drive\n",
        "import cv2\n",
        "import numpy as np\n",
        "from tqdm import tqdm\n",
        "\n",
        "# Step 1: Mount Google Drive\n",
        "drive.mount('/content/drive', force_remount=True)\n",
        "\n",
        "# Step 2: Specify paths\n",
        "input_folder = \"/content/drive/MyDrive/Discipline Specific/HAM 10000\"\n",
        "output_folder = \"/content/drive/MyDrive/1st Model/Lesion PreProcessed\"\n",
        "\n",
        "# Check if input and output folders exist\n",
        "if not os.path.exists(input_folder):\n",
        "    raise FileNotFoundError(f\"The input folder '{input_folder}' does not exist.\")\n",
        "if not os.path.exists(output_folder):\n",
        "    os.makedirs(output_folder, exist_ok=True)\n",
        "\n",
        "# Step 3: Select 1,000 random images\n",
        "image_files = [f for f in os.listdir(input_folder) if f.lower().endswith(('png', 'jpg', 'jpeg'))]\n",
        "selected_images = random.sample(image_files, min(1000, len(image_files)))\n",
        "\n",
        "print(f\"Found {len(image_files)} images in the input folder.\")\n",
        "print(f\"Randomly selected {len(selected_images)} images for processing...\")\n",
        "\n",
        "# Step 4: Define the DullRazor hair removal function\n",
        "def remove_hair_dullrazor(image):\n",
        "    \"\"\"Removes hair from the input image using the DullRazor algorithm.\"\"\"\n",
        "    # Convert image to grayscale\n",
        "    gray = cv2.cvtColor(image, cv2.COLOR_BGR2GRAY)\n",
        "\n",
        "    # Apply a blackhat morphological operation to highlight hair regions\n",
        "    kernel = cv2.getStructuringElement(cv2.MORPH_RECT, (17, 17))\n",
        "    blackhat = cv2.morphologyEx(gray, cv2.MORPH_BLACKHAT, kernel)\n",
        "\n",
        "    # Use a binary threshold to create a mask for the hair\n",
        "    _, hair_mask = cv2.threshold(blackhat, 10, 255, cv2.THRESH_BINARY)\n",
        "\n",
        "    # Apply inpainting to remove hair\n",
        "    inpainted_image = cv2.inpaint(image, hair_mask, inpaintRadius=3, flags=cv2.INPAINT_TELEA)\n",
        "\n",
        "    return inpainted_image\n",
        "\n",
        "# Step 5: Define the image processing function\n",
        "def process_and_save_images(selected_images):\n",
        "    for image_file in tqdm(selected_images):\n",
        "        input_path = os.path.join(input_folder, image_file)\n",
        "        output_path = os.path.join(output_folder, image_file)\n",
        "\n",
        "        # Load the image\n",
        "        image = cv2.imread(input_path)\n",
        "\n",
        "        if image is None:\n",
        "            print(f\"Error reading image: {image_file}. Skipping...\")\n",
        "            continue\n",
        "\n",
        "        # Step 1: Remove hair using DullRazor algorithm\n",
        "        image_no_hair = remove_hair_dullrazor(image)\n",
        "\n",
        "        # Step 2: Resize the image\n",
        "        resized_image = cv2.resize(image_no_hair, (224, 224))\n",
        "\n",
        "        # Step 3: Normalize pixel values to the range [0, 1]\n",
        "        normalized_image = resized_image / 255.0  # Scaling\n",
        "\n",
        "        # Step 4: Convert back to uint8 format for saving (optional)\n",
        "        normalized_image_uint8 = (normalized_image * 255).astype(np.uint8)\n",
        "\n",
        "        # Save the processed image\n",
        "        cv2.imwrite(output_path, normalized_image_uint8)\n",
        "\n",
        "# Step 6: Process the images\n",
        "process_and_save_images(selected_images)\n",
        "\n",
        "print(f\"Processing completed. All images saved to '{output_folder}'.\")\n"
      ],
      "metadata": {
        "colab": {
          "base_uri": "https://localhost:8080/"
        },
        "id": "BGQ8vntgwWFv",
        "outputId": "e220253d-fa5e-4809-fa06-a6978ed23e7f"
      },
      "execution_count": 8,
      "outputs": [
        {
          "output_type": "stream",
          "name": "stdout",
          "text": [
            "Mounted at /content/drive\n",
            "Found 10015 images in the input folder.\n",
            "Randomly selected 1000 images for processing...\n"
          ]
        },
        {
          "output_type": "stream",
          "name": "stderr",
          "text": [
            "100%|██████████| 1000/1000 [04:06<00:00,  4.06it/s]"
          ]
        },
        {
          "output_type": "stream",
          "name": "stdout",
          "text": [
            "Processing completed. All images saved to '/content/drive/MyDrive/1st Model/Lesion PreProcessed'.\n"
          ]
        },
        {
          "output_type": "stream",
          "name": "stderr",
          "text": [
            "\n"
          ]
        }
      ]
    }
  ]
}
