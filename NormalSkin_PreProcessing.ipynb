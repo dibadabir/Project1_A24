{
  "nbformat": 4,
  "nbformat_minor": 0,
  "metadata": {
    "colab": {
      "provenance": [],
      "authorship_tag": "ABX9TyOJ7saQ1lb3Ix5kkY9ebMqi",
      "include_colab_link": true
    },
    "kernelspec": {
      "name": "python3",
      "display_name": "Python 3"
    },
    "language_info": {
      "name": "python"
    }
  },
  "cells": [
    {
      "cell_type": "markdown",
      "metadata": {
        "id": "view-in-github",
        "colab_type": "text"
      },
      "source": [
        "<a href=\"https://colab.research.google.com/github/dibadabir/Project1_A24/blob/main/NormalSkin_PreProcessing.ipynb\" target=\"_parent\"><img src=\"https://colab.research.google.com/assets/colab-badge.svg\" alt=\"Open In Colab\"/></a>"
      ]
    },
    {
      "cell_type": "code",
      "execution_count": 3,
      "metadata": {
        "id": "XOSgu46wJIdK",
        "colab": {
          "base_uri": "https://localhost:8080/"
        },
        "outputId": "0085b8ba-66e7-4377-fee0-1bb26a4df9a0"
      },
      "outputs": [
        {
          "output_type": "stream",
          "name": "stdout",
          "text": [
            "Drive already mounted at /content/drive; to attempt to forcibly remount, call drive.mount(\"/content/drive\", force_remount=True).\n",
            "Found 1010 images in the input folder. Processing...\n"
          ]
        },
        {
          "output_type": "stream",
          "name": "stderr",
          "text": [
            " 31%|███       | 312/1010 [00:24<00:37, 18.56it/s]"
          ]
        },
        {
          "output_type": "stream",
          "name": "stdout",
          "text": [
            "Error: Could not read image file: /content/drive/MyDrive/Discipline Specific/Normal- Problamatic skin/Screenshot 2025-01-29 at 10.54.49.png\n"
          ]
        },
        {
          "output_type": "stream",
          "name": "stderr",
          "text": [
            "100%|██████████| 1010/1010 [00:47<00:00, 21.32it/s]"
          ]
        },
        {
          "output_type": "stream",
          "name": "stdout",
          "text": [
            "Processing completed. All images saved to '/content/drive/MyDrive/1st Model/Normal PreProcessed'.\n"
          ]
        },
        {
          "output_type": "stream",
          "name": "stderr",
          "text": [
            "\n"
          ]
        }
      ],
      "source": [
        "import os\n",
        "from google.colab import drive\n",
        "import cv2\n",
        "import numpy as np\n",
        "from tqdm import tqdm\n",
        "\n",
        "# Step 1: Mount Google Drive\n",
        "drive.mount('/content/drive')\n",
        "\n",
        "# Step 2: Specify paths\n",
        "input_folder = \"/content/drive/MyDrive/Discipline Specific/Normal- Problamatic skin\"\n",
        "output_folder = \"/content/drive/MyDrive/1st Model/Normal PreProcessed\"\n",
        "\n",
        "# # Check if input and output folders exist\n",
        "# if not os.path.exists(input_folder):\n",
        "#     raise FileNotFoundError(f\"The input folder '{input_folder}' does not exist.\")\n",
        "# if not os.path.exists(output_folder):\n",
        "#     os.makedirs(output_folder, exist_ok=True)\n",
        "\n",
        "# Step 3: Define image processing functions\n",
        "def process_image(image_path, output_path, size=(224, 224)):\n",
        "    # Load the image\n",
        "    image = cv2.imread(image_path)\n",
        "\n",
        "    # Check if the image was loaded successfully\n",
        "    if image is None:\n",
        "        print(f\"Error: Could not read image file: {image_path}\")\n",
        "        return  # Skip processing this image\n",
        "\n",
        "    # Resize the image\n",
        "    resized_image = cv2.resize(image, size)\n",
        "\n",
        "    # Normalize pixel values to the range [0, 1]\n",
        "    normalized_image = resized_image / 255.0  # Scaling\n",
        "\n",
        "    # Convert back to uint8 format for saving (if necessary)\n",
        "    normalized_image_uint8 = (normalized_image * 255).astype(np.uint8)\n",
        "\n",
        "    # Save the processed image\n",
        "    cv2.imwrite(output_path, normalized_image_uint8)\n",
        "\n",
        "# Step 4: Process and save images\n",
        "image_files = [f for f in os.listdir(input_folder) if f.lower().endswith(('png', 'jpg', 'jpeg'))]\n",
        "\n",
        "print(f\"Found {len(image_files)} images in the input folder. Processing...\")\n",
        "\n",
        "for image_file in tqdm(image_files):\n",
        "    input_path = os.path.join(input_folder, image_file)\n",
        "    output_path = os.path.join(output_folder, image_file)\n",
        "\n",
        "    # Process and save each image\n",
        "    process_image(input_path, output_path)\n",
        "\n",
        "print(f\"Processing completed. All images saved to '{output_folder}'.\")\n"
      ]
    }
  ]
}