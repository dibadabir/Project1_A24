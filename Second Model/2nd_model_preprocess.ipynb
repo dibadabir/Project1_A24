{
  "cells": [
    {
      "cell_type": "markdown",
      "metadata": {
        "id": "view-in-github",
        "colab_type": "text"
      },
      "source": [
        "<a href=\"https://colab.research.google.com/github/dibadabir/Project1_A24/blob/main/2nd_model_preprocess.ipynb\" target=\"_parent\"><img src=\"https://colab.research.google.com/assets/colab-badge.svg\" alt=\"Open In Colab\"/></a>"
      ]
    },
    {
      "cell_type": "code",
      "execution_count": 5,
      "metadata": {
        "colab": {
          "base_uri": "https://localhost:8080/"
        },
        "id": "lD16ip0iUJNk",
        "outputId": "0363bae2-807f-42a4-f442-1278399f9d4a"
      },
      "outputs": [
        {
          "output_type": "stream",
          "name": "stdout",
          "text": [
            "Drive already mounted at /content/drive; to attempt to forcibly remount, call drive.mount(\"/content/drive\", force_remount=True).\n",
            "Images copied successfully!\n"
          ]
        }
      ],
      "source": [
        "import os\n",
        "import shutil\n",
        "from google.colab import drive\n",
        "import pandas as pd\n",
        "\n",
        "# Mount Google Drive\n",
        "drive.mount('/content/drive')\n",
        "\n",
        "# Define paths\n",
        "source_folder = \"/content/drive/MyDrive/Discipline Specific/HAM 10000\"\n",
        "dest_cancerous = \"/content/drive/MyDrive/2nd Model/Cancerous_Lesions\"\n",
        "dest_non_cancerous = \"/content/drive/MyDrive/2nd Model/Non_Cancerous_Lesions\"\n",
        "\n",
        "# Create destination folders if they don't exist\n",
        "for folder in [dest_cancerous, dest_non_cancerous]:\n",
        "    os.makedirs(folder, exist_ok=True)\n",
        "\n",
        "# Load the balanced dataset\n",
        "file_path = \"/content/drive/MyDrive/Discipline Specific/HAM10000_metadata.csv\"\n",
        "df = pd.read_csv(file_path)\n",
        "\n",
        "# Define cancerous and non-cancerous categories\n",
        "cancerous_labels = ['mel', 'bcc', 'akiec']\n",
        "non_cancerous_labels = ['nv', 'bkl', 'df', 'vasc']\n",
        "\n",
        "# Function to copy images\n",
        "def copy_images(df_subset, destination_folder):\n",
        "    for _, row in df_subset.iterrows():\n",
        "        image_filename = row['image_id'] + \".jpg\"  # Assuming images are in .jpg format\n",
        "        source_path = os.path.join(source_folder, image_filename)\n",
        "        destination_path = os.path.join(destination_folder, image_filename)\n",
        "\n",
        "        if os.path.exists(source_path):\n",
        "            shutil.copy(source_path, destination_path)\n",
        "\n",
        "# Select balanced samples (115 per category)\n",
        "def balanced_sample(df, labels, sample_size=115):\n",
        "    return pd.concat([df[df['dx'] == label].sample(n=sample_size, random_state=42, replace=False) for label in labels])\n",
        "\n",
        "balanced_cancerous = balanced_sample(df, cancerous_labels, sample_size=115)\n",
        "balanced_non_cancerous = balanced_sample(df, non_cancerous_labels, sample_size=115)\n",
        "\n",
        "# Copy images to respective folders\n",
        "copy_images(balanced_cancerous, dest_cancerous)\n",
        "copy_images(balanced_non_cancerous, dest_non_cancerous)\n",
        "\n",
        "print(\"Images copied successfully!\")\n"
      ]
    },
    {
      "cell_type": "code",
      "source": [
        "import os\n",
        "import random\n",
        "from google.colab import drive\n",
        "import cv2\n",
        "import numpy as np\n",
        "from tqdm import tqdm\n",
        "\n",
        "\n",
        "# Step 4: Define the DullRazor hair removal function\n",
        "def remove_hair_dullrazor(image):\n",
        "    \"\"\"Removes hair from the input image using the DullRazor algorithm.\"\"\"\n",
        "    gray = cv2.cvtColor(image, cv2.COLOR_BGR2GRAY)\n",
        "    kernel = cv2.getStructuringElement(cv2.MORPH_RECT, (17, 17))\n",
        "    blackhat = cv2.morphologyEx(gray, cv2.MORPH_BLACKHAT, kernel)\n",
        "    _, hair_mask = cv2.threshold(blackhat, 10, 255, cv2.THRESH_BINARY)\n",
        "    inpainted_image = cv2.inpaint(image, hair_mask, inpaintRadius=3, flags=cv2.INPAINT_TELEA)\n",
        "    return inpainted_image\n",
        "\n",
        "# Step 5: Define augmentation functions\n",
        "def adjust_brightness_contrast(image, brightness=10, contrast=10):\n",
        "    brightness = random.randint(-brightness, brightness)\n",
        "    contrast = random.randint(-contrast, contrast)\n",
        "    image = np.int16(image)\n",
        "    image = image * (contrast / 127 + 1) - contrast + brightness\n",
        "    image = np.clip(image, 0, 255)\n",
        "    return np.uint8(image)\n",
        "\n",
        "def flip_image(image):\n",
        "    return cv2.flip(image, 1)  # Horizontal flip\n",
        "\n",
        "def rotate_image(image, angle):\n",
        "    (h, w) = image.shape[:2]\n",
        "    center = (w // 2, h // 2)\n",
        "    matrix = cv2.getRotationMatrix2D(center, angle, 1.0)\n",
        "    return cv2.warpAffine(image, matrix, (w, h))\n",
        "\n",
        "# Step 6: Define the image processing function\n",
        "def process_and_save_images(input_folder, total_images=1000):\n",
        "\n",
        "    selected_images = [f for f in os.listdir(input_folder) if f.endswith(\".jpg\")]\n",
        "\n",
        "    processed_count = 0\n",
        "    for image_file in tqdm(selected_images):\n",
        "        input_path = os.path.join(input_folder, image_file)\n",
        "        image = cv2.imread(input_path)\n",
        "\n",
        "        if image is None:\n",
        "            print(f\"Error reading image: {image_file}. Skipping...\")\n",
        "            continue\n",
        "\n",
        "        # Remove hair\n",
        "        image_no_hair = remove_hair_dullrazor(image)\n",
        "\n",
        "        # Resize\n",
        "        resized_image = cv2.resize(image_no_hair, (224, 224))\n",
        "\n",
        "        # Normalize\n",
        "        normalized_image = resized_image / 255.0  # Scaling\n",
        "        normalized_image_uint8 = (normalized_image * 255).astype(np.uint8)\n",
        "\n",
        "        # Save original processed image\n",
        "        output_path = os.path.join(output_folder, f\"{processed_count}.jpg\")\n",
        "        cv2.imwrite(output_path, normalized_image_uint8)\n",
        "        processed_count += 1\n",
        "\n",
        "        # Generate augmented images if needed\n",
        "        augmentations = [\n",
        "            flip_image(normalized_image_uint8),\n",
        "            adjust_brightness_contrast(normalized_image_uint8)\n",
        "        ]\n",
        "\n",
        "        for aug_img in augmentations:\n",
        "            if processed_count >= total_images:\n",
        "                break\n",
        "            aug_output_path = os.path.join(output_folder, f\"{processed_count}.jpg\")\n",
        "            cv2.imwrite(aug_output_path, aug_img)\n",
        "            processed_count += 1\n",
        "\n",
        "        if processed_count >= total_images:\n",
        "            break\n",
        "\n"
      ],
      "metadata": {
        "id": "kXEQHNrfpDFA"
      },
      "execution_count": 7,
      "outputs": []
    },
    {
      "cell_type": "code",
      "source": [
        "# Step 2: Specify paths\n",
        "cancerous_output = \"/content/drive/MyDrive/2nd Model/Cancerous_Lesions_Preprocessed\"\n",
        "non_cancerous_output = \"/content/drive/MyDrive/2nd Model/Non_Cancerous_Lesions_Preprocessed\"\n",
        "\n",
        "# Check if input and output folders exist\n",
        "for input_folder, output_folder in [(dest_cancerous, cancerous_output), (dest_non_cancerous, non_cancerous_output)]:\n",
        "  if not os.path.exists(input_folder):\n",
        "      raise FileNotFoundError(f\"The input folder '{input_folder}' does not exist.\")\n",
        "  if not os.path.exists(output_folder):\n",
        "      os.makedirs(output_folder, exist_ok=True)\n",
        "\n",
        "  process_and_save_images(input_folder, total_images=1000)\n",
        "\n",
        "\n",
        "\n",
        "# Step 8: Count the number of images in the output folder\n",
        "def count_images_in_folder(folder):\n",
        "    num_images = len([f for f in os.listdir(folder) if f.endswith(\".jpg\")])\n",
        "    print(f\"\\nTotal images in '{folder}': {num_images}\")\n",
        "\n",
        "count_images_in_folder(cancerous_output)\n",
        "count_images_in_folder(non_cancerous_output)"
      ],
      "metadata": {
        "colab": {
          "base_uri": "https://localhost:8080/"
        },
        "id": "qDG6LDWYpLxE",
        "outputId": "abacd7c4-21bf-47d8-9906-3b3a1be7d997"
      },
      "execution_count": 9,
      "outputs": [
        {
          "output_type": "stream",
          "name": "stderr",
          "text": [
            " 97%|█████████▋| 333/345 [01:05<00:02,  5.12it/s]\n",
            " 72%|███████▏  | 333/460 [01:07<00:25,  4.95it/s]"
          ]
        },
        {
          "output_type": "stream",
          "name": "stdout",
          "text": [
            "Total images in '/content/drive/MyDrive/2nd Model/Cancerous_Lesions_Preprocessed': 1000\n",
            "Total images in '/content/drive/MyDrive/2nd Model/Non_Cancerous_Lesions_Preprocessed': 1000\n"
          ]
        },
        {
          "output_type": "stream",
          "name": "stderr",
          "text": [
            "\n"
          ]
        }
      ]
    }
  ],
  "metadata": {
    "colab": {
      "provenance": [],
      "mount_file_id": "1fVLBhTMtdnVB1gwM6yG-xg9uUElfuCir",
      "authorship_tag": "ABX9TyMXKtBTXeVAs2OWevdCzuih",
      "include_colab_link": true
    },
    "kernelspec": {
      "display_name": "Python 3",
      "name": "python3"
    },
    "language_info": {
      "name": "python"
    }
  },
  "nbformat": 4,
  "nbformat_minor": 0
}
